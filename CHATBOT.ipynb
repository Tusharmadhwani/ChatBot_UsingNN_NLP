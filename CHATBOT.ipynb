{
  "nbformat": 4,
  "nbformat_minor": 0,
  "metadata": {
    "colab": {
      "name": "CHATBOT.ipynb",
      "provenance": [],
      "collapsed_sections": [],
      "authorship_tag": "ABX9TyNdUOs+bRBGHGUe/UW7vSwB",
      "include_colab_link": true
    },
    "kernelspec": {
      "name": "python3",
      "display_name": "Python 3"
    }
  },
  "cells": [
    {
      "cell_type": "markdown",
      "metadata": {
        "id": "view-in-github",
        "colab_type": "text"
      },
      "source": [
        "<a href=\"https://colab.research.google.com/github/aradhyxsingh/ChatBot_UsingNN/blob/master/CHATBOT.ipynb\" target=\"_parent\"><img src=\"https://colab.research.google.com/assets/colab-badge.svg\" alt=\"Open In Colab\"/></a>"
      ]
    },
    {
      "cell_type": "markdown",
      "metadata": {
        "id": "ci1jmcgPFU9q",
        "colab_type": "text"
      },
      "source": [
        "##***Ever wanted to create an AI Chat bot? This python chatbot project will show you how to create a chatbot with python using deep learning.*** "
      ]
    },
    {
      "cell_type": "markdown",
      "metadata": {
        "id": "sPRaQMlNIxsh",
        "colab_type": "text"
      },
      "source": [
        "###Steps to run this:\n",
        "\n",
        "1.   Click on 1st checkpoint then press shift+enter this will take you to the 2nd cell hit shift+enter again you'll arive at the 2nd checkpoint.\n",
        "2.   Press shift+enter again after the cell executes it'll provide you a link in blue colour.After opening that link:\n",
        "\n",
        "        *   Choose your google account and hit allow.\n",
        "        *   You'll be given a verification code, copy that and paste it in the input box and press enter\n",
        "3.   This is your 3rd Checkpoint just press shift+enter and wait till your chatbot finishes it's training, after execution you'll be at you 4th and final checkpoint\n",
        "4.   Press shift+enter again, answer a small question and you're good to go.Enjoy\n",
        "\n",
        "\n",
        "\n",
        "\n",
        "\n"
      ]
    },
    {
      "cell_type": "code",
      "metadata": {
        "id": "XYTRJC_3qCoP",
        "colab_type": "code",
        "colab": {
          "base_uri": "https://localhost:8080/",
          "height": 246
        },
        "outputId": "7048b612-a952-45fb-959b-fadcdb077008"
      },
      "source": [
        "pip install tflearn #1st Checkpoint"
      ],
      "execution_count": 2,
      "outputs": [
        {
          "output_type": "stream",
          "text": [
            "Collecting tflearn\n",
            "\u001b[?25l  Downloading https://files.pythonhosted.org/packages/16/ec/e9ce1b52e71f6dff3bd944f020cef7140779e783ab27512ea7c7275ddee5/tflearn-0.3.2.tar.gz (98kB)\n",
            "\r\u001b[K     |███▎                            | 10kB 19.0MB/s eta 0:00:01\r\u001b[K     |██████▋                         | 20kB 6.2MB/s eta 0:00:01\r\u001b[K     |██████████                      | 30kB 7.2MB/s eta 0:00:01\r\u001b[K     |█████████████▎                  | 40kB 5.4MB/s eta 0:00:01\r\u001b[K     |████████████████▋               | 51kB 4.8MB/s eta 0:00:01\r\u001b[K     |████████████████████            | 61kB 4.6MB/s eta 0:00:01\r\u001b[K     |███████████████████████▎        | 71kB 4.8MB/s eta 0:00:01\r\u001b[K     |██████████████████████████▋     | 81kB 4.7MB/s eta 0:00:01\r\u001b[K     |██████████████████████████████  | 92kB 4.7MB/s eta 0:00:01\r\u001b[K     |████████████████████████████████| 102kB 3.3MB/s \n",
            "\u001b[?25hRequirement already satisfied: numpy in /usr/local/lib/python3.6/dist-packages (from tflearn) (1.18.5)\n",
            "Requirement already satisfied: six in /usr/local/lib/python3.6/dist-packages (from tflearn) (1.15.0)\n",
            "Requirement already satisfied: Pillow in /usr/local/lib/python3.6/dist-packages (from tflearn) (7.0.0)\n",
            "Building wheels for collected packages: tflearn\n",
            "  Building wheel for tflearn (setup.py) ... \u001b[?25l\u001b[?25hdone\n",
            "  Created wheel for tflearn: filename=tflearn-0.3.2-cp36-none-any.whl size=128207 sha256=e2149df816e49d25d586cdb06453eaeb01d0956318a28002918a3f6f17ed30ab\n",
            "  Stored in directory: /root/.cache/pip/wheels/d0/f6/69/0ef3ee395aac2e5d15d89efd29a9a216f3c27767b43b72c006\n",
            "Successfully built tflearn\n",
            "Installing collected packages: tflearn\n",
            "Successfully installed tflearn-0.3.2\n"
          ],
          "name": "stdout"
        }
      ]
    },
    {
      "cell_type": "code",
      "metadata": {
        "id": "ysSY3gtaqHbz",
        "colab_type": "code",
        "colab": {
          "base_uri": "https://localhost:8080/",
          "height": 442
        },
        "outputId": "f15d716d-b447-4065-90d2-5e8c04e6ffed"
      },
      "source": [
        "pip install tensorflow==1.15"
      ],
      "execution_count": 18,
      "outputs": [
        {
          "output_type": "stream",
          "text": [
            "Requirement already satisfied: tensorflow==1.15 in /usr/local/lib/python3.6/dist-packages (1.15.0)\n",
            "Requirement already satisfied: opt-einsum>=2.3.2 in /usr/local/lib/python3.6/dist-packages (from tensorflow==1.15) (3.3.0)\n",
            "Requirement already satisfied: grpcio>=1.8.6 in /usr/local/lib/python3.6/dist-packages (from tensorflow==1.15) (1.31.0)\n",
            "Requirement already satisfied: google-pasta>=0.1.6 in /usr/local/lib/python3.6/dist-packages (from tensorflow==1.15) (0.2.0)\n",
            "Requirement already satisfied: gast==0.2.2 in /usr/local/lib/python3.6/dist-packages (from tensorflow==1.15) (0.2.2)\n",
            "Requirement already satisfied: keras-applications>=1.0.8 in /usr/local/lib/python3.6/dist-packages (from tensorflow==1.15) (1.0.8)\n",
            "Requirement already satisfied: termcolor>=1.1.0 in /usr/local/lib/python3.6/dist-packages (from tensorflow==1.15) (1.1.0)\n",
            "Requirement already satisfied: wrapt>=1.11.1 in /usr/local/lib/python3.6/dist-packages (from tensorflow==1.15) (1.12.1)\n",
            "Requirement already satisfied: wheel>=0.26 in /usr/local/lib/python3.6/dist-packages (from tensorflow==1.15) (0.35.1)\n",
            "Requirement already satisfied: numpy<2.0,>=1.16.0 in /usr/local/lib/python3.6/dist-packages (from tensorflow==1.15) (1.18.5)\n",
            "Requirement already satisfied: absl-py>=0.7.0 in /usr/local/lib/python3.6/dist-packages (from tensorflow==1.15) (0.8.1)\n",
            "Requirement already satisfied: astor>=0.6.0 in /usr/local/lib/python3.6/dist-packages (from tensorflow==1.15) (0.8.1)\n",
            "Requirement already satisfied: tensorboard<1.16.0,>=1.15.0 in /usr/local/lib/python3.6/dist-packages (from tensorflow==1.15) (1.15.0)\n",
            "Requirement already satisfied: protobuf>=3.6.1 in /usr/local/lib/python3.6/dist-packages (from tensorflow==1.15) (3.12.4)\n",
            "Requirement already satisfied: keras-preprocessing>=1.0.5 in /usr/local/lib/python3.6/dist-packages (from tensorflow==1.15) (1.1.2)\n",
            "Requirement already satisfied: six>=1.10.0 in /usr/local/lib/python3.6/dist-packages (from tensorflow==1.15) (1.15.0)\n",
            "Requirement already satisfied: tensorflow-estimator==1.15.1 in /usr/local/lib/python3.6/dist-packages (from tensorflow==1.15) (1.15.1)\n",
            "Requirement already satisfied: h5py in /usr/local/lib/python3.6/dist-packages (from keras-applications>=1.0.8->tensorflow==1.15) (2.10.0)\n",
            "Requirement already satisfied: markdown>=2.6.8 in /usr/local/lib/python3.6/dist-packages (from tensorboard<1.16.0,>=1.15.0->tensorflow==1.15) (3.2.2)\n",
            "Requirement already satisfied: setuptools>=41.0.0 in /usr/local/lib/python3.6/dist-packages (from tensorboard<1.16.0,>=1.15.0->tensorflow==1.15) (49.6.0)\n",
            "Requirement already satisfied: werkzeug>=0.11.15 in /usr/local/lib/python3.6/dist-packages (from tensorboard<1.16.0,>=1.15.0->tensorflow==1.15) (1.0.1)\n",
            "Requirement already satisfied: importlib-metadata; python_version < \"3.8\" in /usr/local/lib/python3.6/dist-packages (from markdown>=2.6.8->tensorboard<1.16.0,>=1.15.0->tensorflow==1.15) (1.7.0)\n",
            "Requirement already satisfied: zipp>=0.5 in /usr/local/lib/python3.6/dist-packages (from importlib-metadata; python_version < \"3.8\"->markdown>=2.6.8->tensorboard<1.16.0,>=1.15.0->tensorflow==1.15) (3.1.0)\n"
          ],
          "name": "stdout"
        }
      ]
    },
    {
      "cell_type": "code",
      "metadata": {
        "id": "45KzN4ENpPSa",
        "colab_type": "code",
        "colab": {
          "base_uri": "https://localhost:8080/",
          "height": 52
        },
        "outputId": "2479a80b-efd7-40f3-c551-408384af6d10"
      },
      "source": [
        "#2nd Checkpoint\n",
        "import nltk\n",
        "nltk.download('punkt')\n",
        "from nltk.stem.lancaster import LancasterStemmer\n",
        "stemmer = LancasterStemmer()\n",
        "import random\n",
        "import numpy as np \n",
        "import pandas as pd\n",
        "import warnings\n",
        "warnings.filterwarnings('ignore')\n",
        "import tensorflow as tf\n",
        "import random\n",
        "import tflearn\n",
        "import io\n",
        "import json\n",
        "from multiprocessing import Process, Manager\n",
        "import pickle\n",
        "from pydrive.auth import GoogleAuth\n",
        "from pydrive.drive import GoogleDrive\n",
        "from google.colab import auth\n",
        "from oauth2client.client import GoogleCredentials\n",
        "# Authenticate and create the PyDrive client.\n",
        "auth.authenticate_user()\n",
        "gauth = GoogleAuth()\n",
        "gauth.credentials = GoogleCredentials.get_application_default()\n",
        "drive = GoogleDrive(gauth)\n",
        "id ='1XuVUIM2-DWA5IgxoSllJ7gx3kNHF6iV3'\n",
        "downloaded = drive.CreateFile({'id':id})\n",
        "downloaded.GetContentFile('chatbot.json')\n",
        "data=pd.read_json('chatbot.json')"
      ],
      "execution_count": 5,
      "outputs": [
        {
          "output_type": "stream",
          "text": [
            "[nltk_data] Downloading package punkt to /root/nltk_data...\n",
            "[nltk_data]   Package punkt is already up-to-date!\n"
          ],
          "name": "stdout"
        }
      ]
    },
    {
      "cell_type": "code",
      "metadata": {
        "id": "UMYVkhBepj3Z",
        "colab_type": "code",
        "colab": {
          "base_uri": "https://localhost:8080/",
          "height": 122
        },
        "outputId": "ace9c45d-ff46-4c6f-83da-0e5cb81a35af"
      },
      "source": [
        "#3rd Checkpoint\n",
        "words =[]\n",
        "labels = []\n",
        "docs_x =[]\n",
        "docs_y = []\n",
        "\n",
        "for intent in data['intents']:\n",
        "  for pattern in intent['patterns']:\n",
        "    wrds = nltk.word_tokenize(pattern)\n",
        "    words.extend(wrds)\n",
        "    docs_x.append(wrds)\n",
        "    docs_y.append(intent['tag'])\n",
        "    if intent['tag'] not in labels:\n",
        "      labels.append(intent['tag'])\n",
        "\n",
        "words = [ stemmer.stem(w.lower()) for w in words if w != '?']\n",
        "\n",
        "words = sorted(list(set(words)))\n",
        "\n",
        "labels = sorted(labels)\n",
        "\n",
        "training =[]\n",
        "output = []\n",
        "\n",
        "out_empty = [ 0 for _ in range(len(labels))]\n",
        "\n",
        "for x, doc in enumerate(docs_x):\n",
        "  bag = []\n",
        "  wrds = [stemmer.stem(w) for w in doc]\n",
        "  for w in words:\n",
        "    if w in wrds:\n",
        "      bag.append(1)\n",
        "    else:\n",
        "      bag.append(0)\n",
        "  output_row = out_empty[:]\n",
        "  output_row[labels.index(docs_y[x])] = 1\n",
        "  training.append(bag)\n",
        "  output.append(output_row)\n",
        "training = np.array(training)\n",
        "output = np.array(output)\n",
        "\n",
        "from tensorflow.python.framework import ops\n",
        "ops.reset_default_graph()\n",
        "\n",
        "net = tflearn.input_data(shape=[None, len(training[0])])\n",
        "net = tflearn.fully_connected(net,8)\n",
        "net = tflearn.fully_connected(net,8)\n",
        "net = tflearn.fully_connected(net,len(output[0]),activation='softmax')\n",
        "net = tflearn.regression(net)\n",
        "model = tflearn.DNN(net)\n",
        "\n",
        "model.fit(training,output, n_epoch=1000,batch_size=8,show_metric=True)\n",
        "model.save(\"model.h5\")\n",
        "\n",
        "def bag_of_words(s, words):\n",
        "    bag = [0 for _ in range(len(words))]\n",
        "\n",
        "    s_words = nltk.word_tokenize(s)\n",
        "    s_words = [stemmer.stem(word.lower()) for word in s_words]\n",
        "\n",
        "    for se in s_words:\n",
        "        for i, w in enumerate(words):\n",
        "            if w == se:\n",
        "                bag[i] = 1\n",
        "            \n",
        "    return np.array(bag)"
      ],
      "execution_count": 6,
      "outputs": [
        {
          "output_type": "stream",
          "text": [
            "Training Step: 3999  | total loss: \u001b[1m\u001b[32m0.00463\u001b[0m\u001b[0m | time: 0.013s\n",
            "| Adam | epoch: 1000 | loss: 0.00463 - acc: 0.9998 -- iter: 24/27\n",
            "Training Step: 4000  | total loss: \u001b[1m\u001b[32m0.00437\u001b[0m\u001b[0m | time: 0.018s\n",
            "| Adam | epoch: 1000 | loss: 0.00437 - acc: 0.9999 -- iter: 27/27\n",
            "--\n",
            "INFO:tensorflow:/content/model.h5 is not in all_model_checkpoint_paths. Manually adding it.\n"
          ],
          "name": "stdout"
        }
      ]
    },
    {
      "cell_type": "code",
      "metadata": {
        "id": "bWM2HN-4xk99",
        "colab_type": "code",
        "colab": {
          "base_uri": "https://localhost:8080/",
          "height": 439
        },
        "outputId": "ec72dfc4-0282-4217-a84e-ee8ce90762f2"
      },
      "source": [
        "#4th Checkpoint\n",
        "def chat():\n",
        "    while True:\n",
        "      x=input(\"Your Question: \")\n",
        "      if x=='youranswer':\n",
        "        print(\" Congratulationssss here's your BOT(type quit to go back to the question)!\")\n",
        "        while True:\n",
        "            inp = input(\"You: \")\n",
        "            if inp.lower() == \"quit\":\n",
        "                break\n",
        "\n",
        "\n",
        "            results = model.predict([bag_of_words(inp, words)])[0]\n",
        "            results_index = np.argmax(results)\n",
        "            tag = labels[results_index]\n",
        "\n",
        "            if results[results_index] > 0.73:\n",
        "              for tg in data[\"intents\"]:\n",
        "                if tg['tag'] == tag:\n",
        "                  responses = tg['responses']\n",
        "              print(\"Bot:\",random.choice(responses))\n",
        "            else:\n",
        "              print(\"I did't get this but there's a lot to explore, i like challenges though xD\")\n",
        "      elif x.lower()=='quit':       \n",
        "        break\n",
        "      else:\n",
        "        print('Wrong answer try again')\n",
        "      \n",
        "chat()\t\n",
        "#It answers your questions even if they're wrongly spelt due to the use of Neural Networks"
      ],
      "execution_count": 17,
      "outputs": [
        {
          "output_type": "stream",
          "text": [
            "Your Question: youranswer\n",
            " Congratulationssss here's your BOT(type quit to go back to the question)!\n",
            "You: Is anyone there?\n",
            "Bot: Good to see you again!\n",
            "You: Is anyone the?\n",
            "Bot: Hello!\n",
            "You: Is anyonw ther?\n",
            "Bot: Hello!\n",
            "You: what is your age?\n",
            "Bot: 21 years young!\n",
            "You: how old arw you?\n",
            "Bot: I am 21 years old!\n",
            "You: some random irrelevant question ?\n",
            "I did't get this but there's a lot to explore, i like challenges though xD\n",
            "You: what can you do?\n",
            "Bot: Ask me a question and I'll see if i can help you\n",
            "You: what is your favourite colour?\n",
            "Bot: I looooook amazing in my favorite colour that is RED\n",
            "You: see you later!!\n",
            "Bot: Talk to you later\n",
            "You: bye\n",
            "Bot: Talk to you later\n",
            "You: quit\n",
            "Your Question: quit\n"
          ],
          "name": "stdout"
        }
      ]
    }
  ]
}